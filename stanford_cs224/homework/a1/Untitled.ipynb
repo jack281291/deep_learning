{
 "cells": [
  {
   "cell_type": "code",
   "execution_count": 5,
   "metadata": {},
   "outputs": [
    {
     "ename": "ModuleNotFoundError",
     "evalue": "No module named 'gensim'",
     "output_type": "error",
     "traceback": [
      "\u001b[0;31m---------------------------------------------------------------------------\u001b[0m",
      "\u001b[0;31mModuleNotFoundError\u001b[0m                       Traceback (most recent call last)",
      "\u001b[0;32m<ipython-input-5-e70e92d32c6e>\u001b[0m in \u001b[0;36m<module>\u001b[0;34m\u001b[0m\n\u001b[0;32m----> 1\u001b[0;31m \u001b[0;32mimport\u001b[0m \u001b[0mgensim\u001b[0m\u001b[0;34m\u001b[0m\u001b[0;34m\u001b[0m\u001b[0m\n\u001b[0m",
      "\u001b[0;31mModuleNotFoundError\u001b[0m: No module named 'gensim'"
     ]
    }
   ],
   "source": [
    "import gensim"
   ]
  },
  {
   "cell_type": "code",
   "execution_count": 4,
   "metadata": {},
   "outputs": [
    {
     "name": "stdout",
     "output_type": "stream",
     "text": [
      "Requirement already satisfied: gensim in /Users/anton/Desktop/Projects/deep_learning/stanford_cs224/stanford/lib/python3.7/site-packages (3.8.2)\n",
      "Requirement already satisfied: scipy>=1.0.0 in /Users/anton/Desktop/Projects/deep_learning/stanford_cs224/stanford/lib/python3.7/site-packages (from gensim) (1.4.1)\n",
      "Requirement already satisfied: smart-open>=1.8.1 in /Users/anton/Desktop/Projects/deep_learning/stanford_cs224/stanford/lib/python3.7/site-packages (from gensim) (1.10.0)\n",
      "Requirement already satisfied: six>=1.5.0 in /Users/anton/Desktop/Projects/deep_learning/stanford_cs224/stanford/lib/python3.7/site-packages (from gensim) (1.14.0)\n",
      "Requirement already satisfied: numpy>=1.11.3 in /Users/anton/Desktop/Projects/deep_learning/stanford_cs224/stanford/lib/python3.7/site-packages (from gensim) (1.18.3)\n",
      "Requirement already satisfied: requests in /Users/anton/Desktop/Projects/deep_learning/stanford_cs224/stanford/lib/python3.7/site-packages (from smart-open>=1.8.1->gensim) (2.23.0)\n",
      "Requirement already satisfied: boto3 in /Users/anton/Desktop/Projects/deep_learning/stanford_cs224/stanford/lib/python3.7/site-packages (from smart-open>=1.8.1->gensim) (1.12.46)\n",
      "Requirement already satisfied: google-cloud-storage in /Users/anton/Desktop/Projects/deep_learning/stanford_cs224/stanford/lib/python3.7/site-packages (from smart-open>=1.8.1->gensim) (1.28.0)\n",
      "Requirement already satisfied: idna<3,>=2.5 in /Users/anton/Desktop/Projects/deep_learning/stanford_cs224/stanford/lib/python3.7/site-packages (from requests->smart-open>=1.8.1->gensim) (2.9)\n",
      "Requirement already satisfied: urllib3!=1.25.0,!=1.25.1,<1.26,>=1.21.1 in /Users/anton/Desktop/Projects/deep_learning/stanford_cs224/stanford/lib/python3.7/site-packages (from requests->smart-open>=1.8.1->gensim) (1.25.9)\n",
      "Requirement already satisfied: certifi>=2017.4.17 in /Users/anton/Desktop/Projects/deep_learning/stanford_cs224/stanford/lib/python3.7/site-packages (from requests->smart-open>=1.8.1->gensim) (2020.4.5.1)\n",
      "Requirement already satisfied: chardet<4,>=3.0.2 in /Users/anton/Desktop/Projects/deep_learning/stanford_cs224/stanford/lib/python3.7/site-packages (from requests->smart-open>=1.8.1->gensim) (3.0.4)\n",
      "Requirement already satisfied: botocore<1.16.0,>=1.15.46 in /Users/anton/Desktop/Projects/deep_learning/stanford_cs224/stanford/lib/python3.7/site-packages (from boto3->smart-open>=1.8.1->gensim) (1.15.46)\n",
      "Requirement already satisfied: jmespath<1.0.0,>=0.7.1 in /Users/anton/Desktop/Projects/deep_learning/stanford_cs224/stanford/lib/python3.7/site-packages (from boto3->smart-open>=1.8.1->gensim) (0.9.5)\n",
      "Requirement already satisfied: s3transfer<0.4.0,>=0.3.0 in /Users/anton/Desktop/Projects/deep_learning/stanford_cs224/stanford/lib/python3.7/site-packages (from boto3->smart-open>=1.8.1->gensim) (0.3.3)\n",
      "Requirement already satisfied: google-resumable-media<0.6dev,>=0.5.0 in /Users/anton/Desktop/Projects/deep_learning/stanford_cs224/stanford/lib/python3.7/site-packages (from google-cloud-storage->smart-open>=1.8.1->gensim) (0.5.0)\n",
      "Requirement already satisfied: google-auth<2.0dev,>=1.11.0 in /Users/anton/Desktop/Projects/deep_learning/stanford_cs224/stanford/lib/python3.7/site-packages (from google-cloud-storage->smart-open>=1.8.1->gensim) (1.14.1)\n",
      "Requirement already satisfied: google-cloud-core<2.0dev,>=1.2.0 in /Users/anton/Desktop/Projects/deep_learning/stanford_cs224/stanford/lib/python3.7/site-packages (from google-cloud-storage->smart-open>=1.8.1->gensim) (1.3.0)\n",
      "Requirement already satisfied: python-dateutil<3.0.0,>=2.1 in /Users/anton/Desktop/Projects/deep_learning/stanford_cs224/stanford/lib/python3.7/site-packages (from botocore<1.16.0,>=1.15.46->boto3->smart-open>=1.8.1->gensim) (2.8.1)\n",
      "Requirement already satisfied: docutils<0.16,>=0.10 in /Users/anton/Desktop/Projects/deep_learning/stanford_cs224/stanford/lib/python3.7/site-packages (from botocore<1.16.0,>=1.15.46->boto3->smart-open>=1.8.1->gensim) (0.15.2)\n",
      "Requirement already satisfied: setuptools>=40.3.0 in /Users/anton/Desktop/Projects/deep_learning/stanford_cs224/stanford/lib/python3.7/site-packages (from google-auth<2.0dev,>=1.11.0->google-cloud-storage->smart-open>=1.8.1->gensim) (40.8.0)\n",
      "Requirement already satisfied: pyasn1-modules>=0.2.1 in /Users/anton/Desktop/Projects/deep_learning/stanford_cs224/stanford/lib/python3.7/site-packages (from google-auth<2.0dev,>=1.11.0->google-cloud-storage->smart-open>=1.8.1->gensim) (0.2.8)\n",
      "Requirement already satisfied: rsa<4.1,>=3.1.4 in /Users/anton/Desktop/Projects/deep_learning/stanford_cs224/stanford/lib/python3.7/site-packages (from google-auth<2.0dev,>=1.11.0->google-cloud-storage->smart-open>=1.8.1->gensim) (4.0)\n",
      "Requirement already satisfied: cachetools<5.0,>=2.0.0 in /Users/anton/Desktop/Projects/deep_learning/stanford_cs224/stanford/lib/python3.7/site-packages (from google-auth<2.0dev,>=1.11.0->google-cloud-storage->smart-open>=1.8.1->gensim) (4.1.0)\n",
      "Requirement already satisfied: google-api-core<2.0.0dev,>=1.16.0 in /Users/anton/Desktop/Projects/deep_learning/stanford_cs224/stanford/lib/python3.7/site-packages (from google-cloud-core<2.0dev,>=1.2.0->google-cloud-storage->smart-open>=1.8.1->gensim) (1.17.0)\n",
      "Requirement already satisfied: pyasn1<0.5.0,>=0.4.6 in /Users/anton/Desktop/Projects/deep_learning/stanford_cs224/stanford/lib/python3.7/site-packages (from pyasn1-modules>=0.2.1->google-auth<2.0dev,>=1.11.0->google-cloud-storage->smart-open>=1.8.1->gensim) (0.4.8)\n",
      "Requirement already satisfied: pytz in /Users/anton/Desktop/Projects/deep_learning/stanford_cs224/stanford/lib/python3.7/site-packages (from google-api-core<2.0.0dev,>=1.16.0->google-cloud-core<2.0dev,>=1.2.0->google-cloud-storage->smart-open>=1.8.1->gensim) (2019.3)\n",
      "Requirement already satisfied: protobuf>=3.4.0 in /Users/anton/Desktop/Projects/deep_learning/stanford_cs224/stanford/lib/python3.7/site-packages (from google-api-core<2.0.0dev,>=1.16.0->google-cloud-core<2.0dev,>=1.2.0->google-cloud-storage->smart-open>=1.8.1->gensim) (3.11.3)\n",
      "Requirement already satisfied: googleapis-common-protos<2.0dev,>=1.6.0 in /Users/anton/Desktop/Projects/deep_learning/stanford_cs224/stanford/lib/python3.7/site-packages (from google-api-core<2.0.0dev,>=1.16.0->google-cloud-core<2.0dev,>=1.2.0->google-cloud-storage->smart-open>=1.8.1->gensim) (1.51.0)\n"
     ]
    }
   ],
   "source": [
    "!pip install gensim"
   ]
  },
  {
   "cell_type": "code",
   "execution_count": null,
   "metadata": {},
   "outputs": [],
   "source": []
  }
 ],
 "metadata": {
  "kernelspec": {
   "display_name": "stanford",
   "language": "python",
   "name": "stanford"
  },
  "language_info": {
   "codemirror_mode": {
    "name": "ipython",
    "version": 3
   },
   "file_extension": ".py",
   "mimetype": "text/x-python",
   "name": "python",
   "nbconvert_exporter": "python",
   "pygments_lexer": "ipython3",
   "version": "3.7.3"
  }
 },
 "nbformat": 4,
 "nbformat_minor": 4
}
